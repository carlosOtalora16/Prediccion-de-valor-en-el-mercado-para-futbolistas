{
  "nbformat": 4,
  "nbformat_minor": 0,
  "metadata": {
    "colab": {
      "provenance": [],
      "authorship_tag": "ABX9TyPWLQr6NJQsfvjdT7cyiTBQ",
      "include_colab_link": true
    },
    "kernelspec": {
      "name": "python3",
      "display_name": "Python 3"
    },
    "language_info": {
      "name": "python"
    }
  },
  "cells": [
    {
      "cell_type": "markdown",
      "metadata": {
        "id": "view-in-github",
        "colab_type": "text"
      },
      "source": [
        "<a href=\"https://colab.research.google.com/github/carlosOtalora16/Proyecto-I.A-para-ciencias-e-ingenierias/blob/main/Proyecto_I_A_para_ciencias_e_ingenier%C3%ADas__procesamiento_dataset.ipynb\" target=\"_parent\"><img src=\"https://colab.research.google.com/assets/colab-badge.svg\" alt=\"Open In Colab\"/></a>"
      ]
    },
    {
      "cell_type": "markdown",
      "source": [
        "# Proyecto I.A para las ciencias e ingenierias.\n",
        "# Procesamiento del dataset y analsisis de requisitos minimos para el proyecto"
      ],
      "metadata": {
        "id": "4_2plkrb2U2N"
      }
    },
    {
      "cell_type": "code",
      "execution_count": 9,
      "metadata": {
        "colab": {
          "base_uri": "https://localhost:8080/",
          "height": 53
        },
        "id": "GKR2TN7-Tndi",
        "outputId": "3b3bc04a-3d73-42e0-b13e-4c22b425ddcb"
      },
      "outputs": [
        {
          "output_type": "execute_result",
          "data": {
            "text/plain": [
              "\"Hay 3 columnas con datos nulos pero una de ellas tiene un porcentaje de datos nulos menor al 5%, \\nespecificamente de 2,02% , es decir, falta que esa columna llamada 'Value' tenga un 3,98% mas de datos nulos\\n\""
            ],
            "application/vnd.google.colaboratory.intrinsic+json": {
              "type": "string"
            }
          },
          "metadata": {},
          "execution_count": 9
        }
      ],
      "source": [
        "import pandas as pd\n",
        "import numpy as np\n",
        "'--------------------------------------------------------------------------------------------------------------'\n",
        "#Importar archivo csv de datos de jugadores FIFA 21 \n",
        "Datos_jugadores_fifa21_completo = pd.read_csv('Datos_jugadores_fifa21.csv')\n",
        "Datos_jugadores_fifa21 = Datos_jugadores_fifa21_completo.drop(range(5000,19117),axis=0).drop(['Specialities'\n",
        ",'Traits','Club_JoinedClub','FKAcc','Aggression','StandTackle','SlideTackle','Club_ContractLength'\n",
        ",'BirthDate','Wage','Nation_KitNumber','Club_KitNumber','Marking','Reactions','AttPosition','Weight','ID'],axis=1) \n",
        "\n",
        "#Eliminacion de datos para tener 5000 filas y 44 columnas\n",
        "\n",
        "\"\"\"El dataset  ha sido editado y cumple con las exigencias del proyecto, teniendo un minimo de 5000 filas y un total de 43 columnas.\n",
        "Otra exigencia era que el 10% de las columnas del datset debian ser categoricas, como se tiene un total de 44 columnas\n",
        "habrá que hacer el calculo sobre ese numero de columnas.\n",
        "\n",
        "Originalmente el data set tenia 19117 filas y 60 columnas, cada fila representa a un jugador de futbol, fueron eliminadas\n",
        "17 columnas que no se consideran influyentes a la hora de tener que hacer la prediccion del valor en el mercado del jugador y\n",
        "ademas para hacer mas sencillo el arreglo y tratado de los datos, el numero de jugadores se dejó en 5000 para cumplir con la\n",
        "exigencia minima.\"\"\"\n",
        "\n",
        "'------------------------------------------------------------------------------------------------------------------------'\n",
        "\n",
        "Tamaño_Datos = Datos_jugadores_fifa21.shape #Arroja una tupla donde esta primero el numero de filas y luego las columnas\n",
        "Numero_columnas_categoricas = int((Tamaño_Datos[1]*0.1)) #Se usa int para aproximar al numero entero mas cercano\n",
        "#El dataset debe tener al menos 4 columnas de datos categoricos para cumplir la exigencia \n",
        "\n",
        "Columnas_categoricas = 0\n",
        "for i in Datos_jugadores_fifa21.columns:\n",
        "  if Datos_jugadores_fifa21[i].dtype =='object':\n",
        "    Columnas_categoricas += 1\n",
        "#Hay 9 columnas categoricas, se cumple con la exigencia \n",
        "Nombre_columnas_categoricas = [j for j in Datos_jugadores_fifa21.columns if Datos_jugadores_fifa21[j].dtype==object]\n",
        "#List comprehension para saber que columnas son categoricas\n",
        "'---------------------------------------------------------------------------------------------------------------------------'\n",
        "\n",
        "#Es necesario arreglar el nombre de la columna Natinality a Nationality\n",
        "Datos_jugadores_fifa21.rename(columns={'Natinality':'Nationality'})\n",
        "\n",
        "\"\"\"El siguiente codigo recorre todas las columnas de varibales y dice que cantidad de datos nulos\n",
        "tiene cada una de las columnas  respecto al total de filas que hay\"\"\"\n",
        "\n",
        "'---------------------------------------------------------------------------------------------------------------------------'\n",
        "\n",
        "diccionario_datos_nulos = {} \n",
        "\"\"\"Este diccionario sera llenado por el nombre de cada columna como una llave y el valor de \n",
        "cada llave sera el total de datos nulos que tiene la llave(Nombre de la columna)\"\"\"\n",
        "\n",
        "#Bucle for que asigna a cada columna su respectivo valor de datos nulos presnetes en ella misma\n",
        "for k in Datos_jugadores_fifa21.columns:\n",
        "  diccionario_datos_nulos[k] = Datos_jugadores_fifa21[k].isnull().sum()\n",
        "porcentaje_de_valores_nulo_columna = {}\n",
        "\n",
        "\"\"\"El siguiente bucle funciona con dos variables iteradoras y se encarga de ubicar en un nuevo \n",
        "diccionario solo las columnas que tengan un numero de elementos nulos diferente de cero, hecho esto\n",
        "se calcula el porcentaje de datos nulos que tiene la columna para verificar que cumpla con la condicion de\n",
        "tener 3 columnas con al menos un 5% de valores faltantes, el porcentaje se calcula respecto al\n",
        "total de datos del data set cuanda ya ha sido editado, es decir, sobre un total de 5000 filas en cada columna\"\"\"\n",
        "\n",
        "for x,y in zip(diccionario_datos_nulos.values(),diccionario_datos_nulos.keys()):\n",
        "  if x !=0:\n",
        "    porcentaje_de_valores_nulo_columna[y]= (x/Tamaño_Datos[1])*100\n",
        "porcentaje_de_valores_nulo_columna,diccionario_datos_nulos  \n",
        "\n",
        "\"\"\"Hay 3 columnas con datos nulos pero una de ellas tiene un porcentaje de datos nulos menor al 5%, \n",
        "especificamente de 2,02% , es decir, falta que esa columna llamada 'Value' tenga un 3,98% mas de datos nulos,\n",
        "para alcanzar el minimo de 5% de datos faltantes en esa tercera columna, hará falta eliminar datos, entonces\n",
        "hay que calcular ese 3,98% a cuantos datos equivale para saber el minimo de datos que hay que eliminar de esa columna\"\"\"\n",
        "\n"
      ]
    }
  ]
}