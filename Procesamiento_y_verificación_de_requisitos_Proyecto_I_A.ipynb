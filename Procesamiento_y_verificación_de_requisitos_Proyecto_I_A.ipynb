{
  "nbformat": 4,
  "nbformat_minor": 0,
  "metadata": {
    "colab": {
      "provenance": [],
      "include_colab_link": true
    },
    "kernelspec": {
      "name": "python3",
      "display_name": "Python 3"
    },
    "language_info": {
      "name": "python"
    }
  },
  "cells": [
    {
      "cell_type": "markdown",
      "metadata": {
        "id": "view-in-github",
        "colab_type": "text"
      },
      "source": [
        "<a href=\"https://colab.research.google.com/github/carlosOtalora16/Prediccion-de-valor-en-el-mercado-para-futbolistas/blob/main/Procesamiento_y_verificaci%C3%B3n_de_requisitos_Proyecto_I_A.ipynb\" target=\"_parent\"><img src=\"https://colab.research.google.com/assets/colab-badge.svg\" alt=\"Open In Colab\"/></a>"
      ]
    },
    {
      "cell_type": "markdown",
      "source": [
        "# LLamado de librerias y se añade la URL del dataset en formato csv el cual esta alojado en el repositorio github.\n",
        "\n",
        "Esta celda debe ser ejecutada con prioridad para poder importar las librerias y hacer el llamdado del dataset en formato csv desde un link del repositorio de github del proyecto, ya que es primordial que las librerias esten importadas y el dataset descargado para no tener problemas al ejecutar las demás celdas.\n",
        "\n",
        "#NOTA\n",
        "El usuario no tendrá necesidad de buscar y descargar en su equipo para luego importar al notebook de colab ya que con esta primera celda la descarga del dataset del proyecto se hace directamente desde el repositorio de github del proyecto sin que el usuario tenga que hacer un paso adicional más que ejecutar esta primera celda. "
      ],
      "metadata": {
        "id": "lEPXOKXdcKUP"
      }
    },
    {
      "cell_type": "code",
      "source": [
        "import pandas as pd\n",
        "import numpy as np\n",
        "url = 'https://raw.githubusercontent.com/carlosOtalora16/Prediccion-de-valor-en-el-mercado-para-futbolistas/main/2021.csv'\n",
        "'--------------------------------------------------------------------------------------------------------------'\n",
        "#Importa archivo 2021.csv con su URL de github \n",
        "Datos_jugadores_fifa21_completo = pd.read_csv(url)"
      ],
      "metadata": {
        "id": "r5H-2ofacK4m"
      },
      "execution_count": 1,
      "outputs": []
    },
    {
      "cell_type": "markdown",
      "source": [
        "# Arreglos en el dataset.\n",
        "Para hacer más sencillo el tratamiento y procesado de los datos se hace la eliminación de filas, dejando 5000 que es el mínimo para cumplir con las exigencias del proyecto, además, se eliminan columnas que no aportaran significativamente en el modelo de predicción del proyecto.\n",
        "\n",
        "Tambien se establece la columna 'Name' como columna de indice para que sea mas sencillo tener informacion del dataset usando como indice el nombre de cada jugador. Se corrige el nombre de una columna que estaba mal escrita."
      ],
      "metadata": {
        "id": "4_2plkrb2U2N"
      }
    },
    {
      "cell_type": "code",
      "execution_count": 2,
      "metadata": {
        "id": "GKR2TN7-Tndi"
      },
      "outputs": [],
      "source": [
        "Datos_jugadores_fifa21 = Datos_jugadores_fifa21_completo.drop(range(5000,19117),axis=0).drop(['Specialities'\n",
        ",'Traits','Club_JoinedClub','FKAcc','Aggression','StandTackle','SlideTackle','Club_ContractLength'\n",
        ",'BirthDate','Wage','Nation_KitNumber','Club_KitNumber','Marking','Reactions','AttPosition','Weight','ID'],\n",
        "axis=1).set_index('Name').rename(columns={'Natinality':'Nationality'})\n",
        "\n"
      ]
    },
    {
      "cell_type": "markdown",
      "source": [
        "# Tamaño del dataset y verificación de requisistos.\n",
        "Se almacena el tamaño del dataset para saber el número de columnas categóricas que este debe tener para cumplir con los requisitos mínimos y luego saber cuantas columnas categóricas tiene el dataset.\n"
      ],
      "metadata": {
        "id": "WhbWBzrsQSmW"
      }
    },
    {
      "cell_type": "code",
      "source": [
        "Tamaño_Datos = Datos_jugadores_fifa21.shape #Arroja una tupla donde esta primero el numero de filas y luego las columnas\n",
        "Numero_columnas_categoricas = int((Tamaño_Datos[1]*0.1)) #Se usa int para aproximar al numero entero mas cercano\n",
        "#El dataset debe tener al menos 4 columnas de datos categoricos para cumplir la exigencia \n",
        "\n",
        "print(f'El dataset debe tener un minimo de {Numero_columnas_categoricas} columnas categoricas para cumplir con el requisito del proyecto.')\n",
        "Columnas_categoricas = 0\n",
        "\n",
        "for i in Datos_jugadores_fifa21.columns:\n",
        "  \n",
        "  if Datos_jugadores_fifa21[i].dtype =='object':\n",
        "    Columnas_categoricas += 1\n",
        "\n",
        "#Hay 9 columnas categoricas, se cumple con la exigencia \n",
        "Nombre_columnas_categoricas = [j for j in Datos_jugadores_fifa21.columns if Datos_jugadores_fifa21[j].dtype==object]\n",
        "#List comprehension para saber que columnas son categóricas\n",
        "print(f'El numero de columnas categoricas es de {Columnas_categoricas} y los nombres de estas columnas categoricas son {Nombre_columnas_categoricas}.')\n"
      ],
      "metadata": {
        "id": "z9aBd9cUePQZ",
        "colab": {
          "base_uri": "https://localhost:8080/"
        },
        "outputId": "d85d37a8-f533-4265-8ea3-4894f4ff2deb"
      },
      "execution_count": 3,
      "outputs": [
        {
          "output_type": "stream",
          "name": "stdout",
          "text": [
            "El dataset debe tener un minimo de 4 columnas categoricas para cumplir con el requisito del proyecto.\n",
            "El numero de columnas categoricas es de 8 y los nombres de estas columnas categoricas son ['Nationality', 'PreferredFoot', 'PreferredPositions', 'PlayerWorkRate', 'Nation', 'Nation_Position', 'Club', 'Club_Position'].\n"
          ]
        }
      ]
    },
    {
      "cell_type": "markdown",
      "source": [
        "# Verificación de datos nulos.\n",
        "Se hace el cálculo de cuantos y que porcentaje de datos nulos tiene cada columna del datset, para que, en caso de no cumplir el mínimo de 5% de datos nulos en la columna, se lleve a cabo el reemplazo de datos conocidos por datos nulos."
      ],
      "metadata": {
        "id": "4AV4dVyMQTvo"
      }
    },
    {
      "cell_type": "code",
      "source": [
        "#Bucle for que asigna a cada columna su respectivo valor de datos nulos presnetes en ella misma\n",
        "diccionario_valores_eliminar = {}\n",
        "columnas_datos_nulos = []\n",
        "porcentaje_datos_nulos ={}\n",
        "for k in Datos_jugadores_fifa21.columns:\n",
        "  \n",
        "  if Datos_jugadores_fifa21[k].isnull().sum() !=0:\n",
        "    print(f'La columna numero {(Datos_jugadores_fifa21.columns.tolist().index(k))+1} y de nombre {k} tiene',\n",
        "    f'{Datos_jugadores_fifa21[k].isnull().sum()} datos nulos y un {round((Datos_jugadores_fifa21[k].isnull().sum()/Tamaño_Datos[0])*100,2)} % de datos nulos respecto al total.')\n",
        "    columnas_datos_nulos.append(k)\n",
        "    porcentaje_datos_nulos[k]= round((Datos_jugadores_fifa21[k].isnull().sum()/Tamaño_Datos[0])*100,2)\n",
        "    if (Datos_jugadores_fifa21[k].isnull().sum()/Tamaño_Datos[0])*100 <5 :\n",
        "      print(f'La columna numero {(Datos_jugadores_fifa21.columns.tolist().index(k))+1} y de nombre {k} no cumple con el 5% minimo de datos nulos, entonces, ')\n",
        "      print(f'le hace falta un {round(5-(Datos_jugadores_fifa21[k].isnull().sum()/Tamaño_Datos[0])*100,2)} % de datos para alcanzar el minimo, lo cual quiere decir que')\n",
        "      print(f'habrá que eliminar {int((5-(Datos_jugadores_fifa21[k].isnull().sum()/Tamaño_Datos[0])*100)*Tamaño_Datos[0]/100)} datos del dataset para alcanzar el 5% de datos nulos')\n",
        "      print() #Print vacio para dejar un espacio vacio entre los renglones de descripicion de diferentes columnas impresos en pantalla\n",
        "      diccionario_valores_eliminar[k]= int((5-(Datos_jugadores_fifa21[k].isnull().sum()/Tamaño_Datos[0])*100)*Tamaño_Datos[0]/100)\n",
        "      #Diccionario para poder almacenar los valores que le hacen falta a una columna para alcanzar el requiaisto minimo\n",
        "      lista_azar = [0]*(diccionario_valores_eliminar[k]+Datos_jugadores_fifa21[k].isnull().sum()) \n",
        "      #Lista llena de ceros con longitud igual a datos faltantes de la columna\n",
        "      import random\n",
        "      for llenado in range(len(lista_azar)):\n",
        "        lista_azar[llenado]= random.randint(0,5000)\n",
        "      for x in lista_azar:\n",
        "          if Datos_jugadores_fifa21[k][x]!= np.nan:\n",
        "            Datos_jugadores_fifa21[k][x]= np.nan\n",
        "          if Datos_jugadores_fifa21[k][x]==np.nan:\n",
        "             continue\n",
        "          if Datos_jugadores_fifa21[k].isnull().sum()>= 250:\n",
        "             break\n",
        "    else:\n",
        "      print() #Print vacio para dejar un espacio vacio entre los renglones de descripicion de diferentes columnas impresos en pantalla\n",
        "\n"
      ],
      "metadata": {
        "id": "M1KA0m7MqC8x",
        "colab": {
          "base_uri": "https://localhost:8080/"
        },
        "outputId": "b15ef295-1f0c-4c0c-a55f-b004f8137604"
      },
      "execution_count": 8,
      "outputs": [
        {
          "output_type": "stream",
          "name": "stdout",
          "text": [
            "La columna numero 11 y de nombre Value tiene 250 datos nulos y un 5.0 % de datos nulos respecto al total.\n",
            "\n",
            "La columna numero 12 y de nombre Nation tiene 4250 datos nulos y un 85.0 % de datos nulos respecto al total.\n",
            "\n",
            "La columna numero 13 y de nombre Nation_Position tiene 4250 datos nulos y un 85.0 % de datos nulos respecto al total.\n",
            "\n"
          ]
        }
      ]
    },
    {
      "cell_type": "markdown",
      "source": [
        "# Verificación de requisitos del dataset.\n",
        "A continuación y mediante condicionales se hace la verificación de los requisitos del dataset (Tamaño,columnas categoricas,columnas con datos nulos, porcentaje de datos nulos en las columnas), en caso de faltar algun requisito se imprimirá en pantalla la condición que hace falta."
      ],
      "metadata": {
        "id": "WhgHCUNKTp03"
      }
    },
    {
      "cell_type": "code",
      "source": [
        "if Datos_jugadores_fifa21.size>=5000*30:\n",
        "  print('Cumple con la dimension de dataset minima de 5000 datos con 30 columnas.')\n",
        " \n",
        "  if Columnas_categoricas> Tamaño_Datos[1]*0.1:\n",
        "    print('Cumple con el minimo de columnas categoricas segun su numero de columnas.')\n",
        "    print(f'El dataset debe tener minimo {int(Tamaño_Datos[1]*0.1)} y tiene {Columnas_categoricas}')\n",
        "    if len(columnas_datos_nulos)>=3:\n",
        "      print(f'Cumple con el minimo de 3 columnas con datos nulos, tiene {columnas_datos_nulos} columnas con datos nulos.')\n",
        "    \n",
        "      for j,z in zip(porcentaje_datos_nulos.values(),porcentaje_datos_nulos.keys()):\n",
        "        if j >=5:\n",
        "          print(f'La columna {z} cumple con el minimo de 5% teniendo un {j} % de datos nulos')\n",
        "        else:\n",
        "          print(f'La columna {z} no cumple con el minimo de 5%, solo tiene un {j} % de datos nulos')\n",
        "    else:\n",
        "      print(f'El dataset no tiene suficientes columnas con datos nulos, solo tiene {len(columnas_datos_nulos)} ')\n",
        "  else:\n",
        "    print(f'El dataset no tiene el minimo de columnas categoricas, deberia tener {Tamaño_Datos[1]*0.1} columnas categoricas.')  \n",
        "else:\n",
        "  print(f'El dataset no cumple con el minimo de 5000 filas y 30 columnas, tiene {Tamaño_Datos[0]} filas y {Tamaño_Datos[1]} columnas') \n",
        "  \n",
        "  "
      ],
      "metadata": {
        "colab": {
          "base_uri": "https://localhost:8080/"
        },
        "id": "jCAYIjz2WJUL",
        "outputId": "b5a3b1b9-500e-4e0d-9397-8d28520d244b"
      },
      "execution_count": 9,
      "outputs": [
        {
          "output_type": "stream",
          "name": "stdout",
          "text": [
            "Cumple con la dimension de dataset minima de 5000 datos con 30 columnas.\n",
            "Cumple con el minimo de columnas categoricas segun su numero de columnas.\n",
            "El dataset debe tener minimo 4 y tiene 8\n",
            "Cumple con el minimo de 3 columnas con datos nulos, tiene ['Value', 'Nation', 'Nation_Position'] columnas con datos nulos.\n",
            "La columna Value cumple con el minimo de 5% teniendo un 5.0 % de datos nulos\n",
            "La columna Nation cumple con el minimo de 5% teniendo un 85.0 % de datos nulos\n",
            "La columna Nation_Position cumple con el minimo de 5% teniendo un 85.0 % de datos nulos\n"
          ]
        }
      ]
    },
    {
      "cell_type": "markdown",
      "source": [
        "# Codigo usado para descargar el datsset procesado en las celdas anteriores y usarlo en otro notebook.\n",
        "Esta celda no es necesaria que usted la ejecute, como se mencionó anteriormente, se usó para descargar el dataset procesado y posteriormente subirlo al repositorio del proyecto para que en proximos notebooks pueda ser descargado a colab desde el repositorio usando su url, tal como se importo el dataset original en la primera celda de este notebook."
      ],
      "metadata": {
        "id": "lkMowj9DWfsY"
      }
    },
    {
      "cell_type": "code",
      "source": [
        "Datos_jugadores_fifa21.to_csv('Datos_fifa21_procesado.csv')\n",
        "from google.colab import files\n",
        "files.download('Datos_fifa21_procesado.csv')"
      ],
      "metadata": {
        "colab": {
          "base_uri": "https://localhost:8080/",
          "height": 17
        },
        "id": "Cd8vrJhOd_bd",
        "outputId": "72ad8850-8b2e-44a2-f0eb-030ace794cb3"
      },
      "execution_count": 35,
      "outputs": [
        {
          "output_type": "display_data",
          "data": {
            "text/plain": [
              "<IPython.core.display.Javascript object>"
            ],
            "application/javascript": [
              "\n",
              "    async function download(id, filename, size) {\n",
              "      if (!google.colab.kernel.accessAllowed) {\n",
              "        return;\n",
              "      }\n",
              "      const div = document.createElement('div');\n",
              "      const label = document.createElement('label');\n",
              "      label.textContent = `Downloading \"${filename}\": `;\n",
              "      div.appendChild(label);\n",
              "      const progress = document.createElement('progress');\n",
              "      progress.max = size;\n",
              "      div.appendChild(progress);\n",
              "      document.body.appendChild(div);\n",
              "\n",
              "      const buffers = [];\n",
              "      let downloaded = 0;\n",
              "\n",
              "      const channel = await google.colab.kernel.comms.open(id);\n",
              "      // Send a message to notify the kernel that we're ready.\n",
              "      channel.send({})\n",
              "\n",
              "      for await (const message of channel.messages) {\n",
              "        // Send a message to notify the kernel that we're ready.\n",
              "        channel.send({})\n",
              "        if (message.buffers) {\n",
              "          for (const buffer of message.buffers) {\n",
              "            buffers.push(buffer);\n",
              "            downloaded += buffer.byteLength;\n",
              "            progress.value = downloaded;\n",
              "          }\n",
              "        }\n",
              "      }\n",
              "      const blob = new Blob(buffers, {type: 'application/binary'});\n",
              "      const a = document.createElement('a');\n",
              "      a.href = window.URL.createObjectURL(blob);\n",
              "      a.download = filename;\n",
              "      div.appendChild(a);\n",
              "      a.click();\n",
              "      div.remove();\n",
              "    }\n",
              "  "
            ]
          },
          "metadata": {}
        },
        {
          "output_type": "display_data",
          "data": {
            "text/plain": [
              "<IPython.core.display.Javascript object>"
            ],
            "application/javascript": [
              "download(\"download_76764900-9459-423b-afc8-0cc3fbaf1278\", \"Datos_fifa21_procesado.csv\", 849310)"
            ]
          },
          "metadata": {}
        }
      ]
    }
  ]
}