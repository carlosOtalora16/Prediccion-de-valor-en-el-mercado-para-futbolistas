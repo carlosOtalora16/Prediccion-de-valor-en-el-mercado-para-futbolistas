{
  "nbformat": 4,
  "nbformat_minor": 0,
  "metadata": {
    "colab": {
      "provenance": [],
      "authorship_tag": "ABX9TyP2h9pxBQpFOTYUZTaQs00C",
      "include_colab_link": true
    },
    "kernelspec": {
      "name": "python3",
      "display_name": "Python 3"
    },
    "language_info": {
      "name": "python"
    }
  },
  "cells": [
    {
      "cell_type": "markdown",
      "metadata": {
        "id": "view-in-github",
        "colab_type": "text"
      },
      "source": [
        "<a href=\"https://colab.research.google.com/github/carlosOtalora16/Prediccion-de-valor-en-el-mercado-para-futbolistas/blob/main/Llenado_de_datos_y_primeros_algoritmos.ipynb\" target=\"_parent\"><img src=\"https://colab.research.google.com/assets/colab-badge.svg\" alt=\"Open In Colab\"/></a>"
      ]
    },
    {
      "cell_type": "markdown",
      "source": [
        "# Importe de dataset procesado y verificado, junto al importe de librerias.\n",
        "El dataset que fue procesado en un notebook diferente, se subió al repositorio del proyecto para poder ser importado a este notebook mediante su url y poder trabajar con el dataset ya procesado en este notebook."
      ],
      "metadata": {
        "id": "NAYozOt0-BPR"
      }
    },
    {
      "cell_type": "code",
      "execution_count": 71,
      "metadata": {
        "colab": {
          "base_uri": "https://localhost:8080/"
        },
        "id": "0CDnhBzXhwwH",
        "outputId": "c4b15d8f-aa8d-4392-ab3a-f66790aa04d8"
      },
      "outputs": [
        {
          "output_type": "execute_result",
          "data": {
            "text/plain": [
              "{'David Silva': 1,\n",
              " 'Felipe': 1,\n",
              " 'Saúl': 1,\n",
              " 'Marcelo': 1,\n",
              " 'Paulinho': 6,\n",
              " 'Fernando': 3,\n",
              " 'Aitor': 1,\n",
              " 'Rodrigo': 1,\n",
              " 'Ben Davies': 1,\n",
              " 'Otávio': 1,\n",
              " 'Miranda': 1,\n",
              " 'Joaquín': 1,\n",
              " 'Jonathan Rodríguez': 1,\n",
              " 'Munir': 1,\n",
              " 'Emerson': 1,\n",
              " 'Adama Traoré': 1,\n",
              " 'Rafinha': 1,\n",
              " 'Danilo': 3,\n",
              " 'Gabriel': 1,\n",
              " 'Lisandro López': 1,\n",
              " 'Soares': 1,\n",
              " 'Pedro Mendes': 1,\n",
              " 'Rafael': 2,\n",
              " 'Oier': 1,\n",
              " 'Claudio Bravo': 1,\n",
              " 'Guilherme': 1,\n",
              " 'Santiago García': 1,\n",
              " 'Souza': 1,\n",
              " 'Iago': 1,\n",
              " 'Gonzalo Castro': 1,\n",
              " 'Ángel Romero': 1,\n",
              " 'Maurício': 1,\n",
              " 'Manu García': 1,\n",
              " 'Marcão': 1,\n",
              " 'Murilo': 1,\n",
              " 'Ladislav Krejčí': 1,\n",
              " 'Varela': 1,\n",
              " 'Douglas': 1,\n",
              " 'Diego González': 1,\n",
              " 'Juan Carlos': 1,\n",
              " 'Luisinho': 1,\n",
              " 'Jota': 1,\n",
              " 'Marlon': 1}"
            ]
          },
          "metadata": {},
          "execution_count": 71
        }
      ],
      "source": [
        "url = 'https://raw.githubusercontent.com/carlosOtalora16/Prediccion-de-valor-en-el-mercado-para-futbolistas/main/Datos_fifa21_procesado.csv'\n",
        "import pandas as pd\n",
        "import numpy as np\n",
        "Datos_fifa21_procesado = pd.read_csv(url).set_index('Name')\n",
        "lista = Datos_fifa21_procesado.index.tolist()\n",
        "repeticiones = {}\n",
        "lista = Datos_fifa21_procesado.index.tolist()\n",
        "for n in lista:\n",
        "      if n in repeticiones :\n",
        "        repeticiones[n] += 1\n",
        "      else:\n",
        "         repeticiones[n] = 0\n",
        "solo_repetidos = {}\n",
        "for j in repeticiones:\n",
        "  if repeticiones[j] !=0:\n",
        "    solo_repetidos[j]= repeticiones[j]\n",
        "\n",
        "\n",
        "solo_repetidos\n"
      ]
    },
    {
      "cell_type": "code",
      "source": [
        "Datos_fifa21_procesado.Club['Paulinho']"
      ],
      "metadata": {
        "colab": {
          "base_uri": "https://localhost:8080/"
        },
        "id": "83D3bQ_ekQaF",
        "outputId": "5d512c26-8f42-42e7-dbfe-61baedf75fcd"
      },
      "execution_count": 74,
      "outputs": [
        {
          "output_type": "execute_result",
          "data": {
            "text/plain": [
              "Name\n",
              "Paulinho    Guangzhou Evergrande Taobao FC\n",
              "Paulinho                          SC Braga\n",
              "Paulinho               Bayer 04 Leverkusen\n",
              "Paulinho                        AEK Athens\n",
              "Paulinho                    FC Midtjylland\n",
              "Paulinho            Hebei China Fortune FC\n",
              "Paulinho                       Hammarby IF\n",
              "Name: Club, dtype: object"
            ]
          },
          "metadata": {},
          "execution_count": 74
        }
      ]
    }
  ]
}