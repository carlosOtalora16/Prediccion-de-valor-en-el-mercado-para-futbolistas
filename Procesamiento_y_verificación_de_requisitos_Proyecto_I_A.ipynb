{
  "nbformat": 4,
  "nbformat_minor": 0,
  "metadata": {
    "colab": {
      "provenance": [],
      "include_colab_link": true
    },
    "kernelspec": {
      "name": "python3",
      "display_name": "Python 3"
    },
    "language_info": {
      "name": "python"
    }
  },
  "cells": [
    {
      "cell_type": "markdown",
      "metadata": {
        "id": "view-in-github",
        "colab_type": "text"
      },
      "source": [
        "<a href=\"https://colab.research.google.com/github/carlosOtalora16/Prediccion-de-valor-en-el-mercado-para-futbolistas/blob/main/Procesamiento_y_verificaci%C3%B3n_de_requisitos_Proyecto_I_A.ipynb\" target=\"_parent\"><img src=\"https://colab.research.google.com/assets/colab-badge.svg\" alt=\"Open In Colab\"/></a>"
      ]
    },
    {
      "cell_type": "markdown",
      "source": [
        "# LLamado de librerias y se añade la URL del dataset en formato csv el cual esta alojado en el repositorio github.\n",
        "\n",
        "Esta celda debe ser ejecutada con prioridad para poder importar las librerias y hacer el llamdado del dataset en formato csv desde un link del repositorio de github del proyecto, ya que es primordial que las librerias esten importadas y el dataset descargado para no tener problemas al ejecutar las demás celdas.\n",
        "\n",
        "#NOTA\n",
        "El usuario no tendrá necesidad de buscar y descargar en su equipo para luego importar al notebook de colab ya que con esta primera celda la descarga del dataset del proyecto se hace directamente desde el repositorio de github del proyecto sin que el usuario tenga que hacer un paso adicional más que ejecutar esta primera celda. "
      ],
      "metadata": {
        "id": "lEPXOKXdcKUP"
      }
    },
    {
      "cell_type": "code",
      "source": [
        "import pandas as pd\n",
        "import numpy as np\n",
        "url = 'https://raw.githubusercontent.com/carlosOtalora16/Prediccion-de-valor-en-el-mercado-para-futbolistas/main/2021.csv'\n",
        "'--------------------------------------------------------------------------------------------------------------'\n",
        "#Importa archivo 2021.csv con su URL de github \n",
        "Datos_jugadores_fifa21_completo = pd.read_csv(url)\n"
      ],
      "metadata": {
        "id": "r5H-2ofacK4m"
      },
      "execution_count": null,
      "outputs": []
    },
    {
      "cell_type": "markdown",
      "source": [
        "# Eliminación de datos del dataset.\n",
        "Para hacer más sencillo el tratamiento y procesado de los datos se hace la eliminación de filas, dejando 5000 que es el mínimo para cumplir con las exigencias del proyecto, además, se eliminan columnas que no aportaran significativamente en el modelo de predicción del proyecto."
      ],
      "metadata": {
        "id": "4_2plkrb2U2N"
      }
    },
    {
      "cell_type": "code",
      "execution_count": null,
      "metadata": {
        "id": "GKR2TN7-Tndi"
      },
      "outputs": [],
      "source": [
        "import pandas as pd\n",
        "import numpy as np\n",
        "url = 'https://raw.githubusercontent.com/carlosOtalora16/Prediccion-de-valor-en-el-mercado-para-futbolistas/main/2021.csv'\n",
        "'--------------------------------------------------------------------------------------------------------------'\n",
        "#Importar archivo csv de datos de jugadores FIFA 21 \n",
        "Datos_jugadores_fifa21_completo = pd.read_csv(url)\n",
        "\n",
        "Datos_jugadores_fifa21 = Datos_jugadores_fifa21_completo.drop(range(5000,19117),axis=0).drop(['Specialities'\n",
        ",'Traits','Club_JoinedClub','FKAcc','Aggression','StandTackle','SlideTackle','Club_ContractLength'\n",
        ",'BirthDate','Wage','Nation_KitNumber','Club_KitNumber','Marking','Reactions','AttPosition','Weight','ID'],axis=1) \n",
        "\n",
        "#Eliminacion de datos para tener 5000 filas y 44 columnas\n",
        "\n",
        "\"\"\"El dataset  ha sido editado y cumple con las exigencias del proyecto, teniendo un minimo de 5000 filas y un total de 43 columnas.\n",
        "Otra exigencia era que el 10% de las columnas del datset debian ser categoricas, como se tiene un total de 44 columnas\n",
        "habrá que hacer el calculo sobre ese numero de columnas.\n",
        "\n",
        "Originalmente el data set tenia 19117 filas y 60 columnas, cada fila representa a un jugador de futbol, fueron eliminadas\n",
        "17 columnas que no se consideran influyentes a la hora de tener que hacer la prediccion del valor en el mercado del jugador y\n",
        "ademas para hacer mas sencillo el arreglo y tratado de los datos, el numero de jugadores se dejó en 5000 para cumplir con la\n",
        "exigencia minima.\"\"\"\n",
        "\n",
        "Datos_jugadores_fifa21"
      ]
    },
    {
      "cell_type": "markdown",
      "source": [
        "# Arreglo de nombres de columna en el dataset.\n",
        "Se crea un nuevo dataset llamado Datos_jugadores_FIFA21, esto se hace ya que al aplicar rename al dataset, el cambio de nombre de la columna solo se veria reflejado en esta celda, como si se creara una copia del dataset obtendio en la celda de arriba, pero lo que en realidad se necesita es un dataset que conserve el cambio de nombre en la columna ya que este nombre esta mal escrito y además se usará en celdas de más abajo.\n",
        "\n",
        "#ES IMPORTANTE EJECUTAR ESTA CELDA ANTES DE EJECUATAR LAS PROXIMAS, ESTO CON EL FIN DE QUE SE GUARDE EL NUEVO DATASET CON LA CORRECIÓN DEL NOMBRE DE LA COLUMNA."
      ],
      "metadata": {
        "id": "wnuFvD24plJf"
      }
    },
    {
      "cell_type": "code",
      "source": [
        "#Es necesario arreglar el nombre de la columna Natinality a Nationality\n",
        "Datos_jugadores_FIFA21 = Datos_jugadores_fifa21.rename(columns={'Natinality':'Nationality'})\n",
        "Datos_jugadores_FIFA21\n"
      ],
      "metadata": {
        "id": "BR0fm-MLplq0"
      },
      "execution_count": null,
      "outputs": []
    },
    {
      "cell_type": "markdown",
      "source": [
        "# Tamaño del dataset y verificación de número de columnas categóricas incluyendo el nombre de estas.\n",
        "Se hace el cálculo para saber cuantas columnas categóricas debe tener el dataset, partiendo del número total de columnas que tiene este y luego se procede a hallar cuantas columnas categóricas tiene el mismo dataset, luego en una lista se reflejan los nombres de las columnas que tienen datos categóricos."
      ],
      "metadata": {
        "id": "kFVpM3jio6uW"
      }
    },
    {
      "cell_type": "code",
      "source": [
        "Tamaño_Datos = Datos_jugadores_FIFA21.shape #Arroja una tupla donde esta primero el numero de filas y luego las columnas\n",
        "Numero_columnas_categoricas = int((Tamaño_Datos[1]*0.1)) #Se usa int para aproximar al numero entero mas cercano\n",
        "#El dataset debe tener al menos 4 columnas de datos categoricos para cumplir la exigencia \n",
        "print(f'El dataset debe tener un minimo de {Numero_columnas_categoricas} columnas categoricas para cumplir con el requisito del proyecto.')\n",
        "Columnas_categoricas = 0\n",
        "for i in Datos_jugadores_FIFA21.columns:\n",
        "  if Datos_jugadores_FIFA21[i].dtype =='object':\n",
        "    Columnas_categoricas += 1\n",
        "#Hay 9 columnas categoricas, se cumple con la exigencia \n",
        "Nombre_columnas_categoricas = [j for j in Datos_jugadores_FIFA21.columns if Datos_jugadores_FIFA21[j].dtype==object]\n",
        "#List comprehension para saber que columnas son categóricas\n",
        "print(f'El numero de columnas categoricas es de {Columnas_categoricas} y los nombres de estas columnas categoricas son {Nombre_columnas_categoricas}.')\n"
      ],
      "metadata": {
        "id": "z9aBd9cUePQZ"
      },
      "execution_count": null,
      "outputs": []
    },
    {
      "cell_type": "markdown",
      "source": [
        "# Identificación del total de datos nulos en cada columna del dataset\n",
        "Un diccionario donde la llave será el nombre de la columna y el valor sera el total de datos nulos que alberga esa columna, para posteriormente usando ese diccionario mostrar en pantalla de forma mas explicita cuantos datos nulos tiene cada columna con su respectivo nombre."
      ],
      "metadata": {
        "id": "rIpffm2GqCt3"
      }
    },
    {
      "cell_type": "code",
      "source": [
        "\"\"\"El siguiente codigo recorre todas las columnas de varibales y dice que cantidad de datos nulos\n",
        "tiene cada una de las columnas  respecto al total de filas que hay\"\"\"\n",
        "\n",
        "diccionario_datos_nulos = {} \n",
        "\n",
        "\"\"\"Este diccionario será llenado por el nombre de cada columna como una llave y el valor de \n",
        "cada llave sera el total de datos nulos que tiene la llave(Nombre de la columna)\"\"\"\n",
        "\n",
        "#Bucle for que asigna a cada columna su respectivo valor de datos nulos presnetes en ella misma\n",
        "for k in Datos_jugadores_FIFA21.columns:\n",
        "  diccionario_datos_nulos[k] = Datos_jugadores_FIFA21[k].isnull().sum()\n",
        "  print(f'La columna {k} tiene un total de {diccionario_datos_nulos[k]} datos nulos')\n",
        "\n",
        "\n"
      ],
      "metadata": {
        "id": "M1KA0m7MqC8x"
      },
      "execution_count": null,
      "outputs": []
    },
    {
      "cell_type": "markdown",
      "source": [
        "# Filtrado de columnas con datos nulos y porcentaje de datos nulos respecto al total de filas del dataset.\n",
        "Un diccionario donde la llave será el nombre de la columna y el valor sera el porcentaje de datos nulos que tiene esa columna respecto al total de filas que hay en el dataset, luego usando ese diccionario se imprime en pantalla el nombre de la columna y el porcentaje de datos nulos respecto al total de filas de 5000, esto con el fin de que la información sea más explicita."
      ],
      "metadata": {
        "id": "l0Z_Yzyzqmmm"
      }
    },
    {
      "cell_type": "code",
      "source": [
        "\"\"\"El siguiente bucle funciona con dos variables iteradoras y se encarga de ubicar en un nuevo \n",
        "diccionario solo las columnas que tengan un numero de elementos nulos diferente de cero, hecho esto\n",
        "se calcula el porcentaje de datos nulos que tiene la columna para verificar que cumpla con la condición de\n",
        "tener 3 columnas con al menos un 5% de valores faltantes, el porcentaje se calcula respecto al\n",
        "total de datos del dataset cuanda ya ha sido editado, es decir, sobre un total de 5000 filas en cada columna\"\"\"\n",
        "\n",
        "porcentaje_de_valores_nulo_columna = {}\n",
        "\n",
        "for x,y in zip(diccionario_datos_nulos.values(),diccionario_datos_nulos.keys()):\n",
        "  if x !=0:\n",
        "    porcentaje_de_valores_nulo_columna[y]= (x/Tamaño_Datos[0])*100\n",
        "    print(f'La columna {y} tiene {porcentaje_de_valores_nulo_columna[y]} % de valores nulos.')\n",
        "\n",
        "  "
      ],
      "metadata": {
        "id": "md9-ggtGqm3p"
      },
      "execution_count": null,
      "outputs": []
    },
    {
      "cell_type": "markdown",
      "source": [
        "# Verificación de porcentajes de datos nulos en cada columna sea de al menos en 5% respecto al total de datos.\n",
        "El proposito es hacer la verificación de porcentaje de dato nulos en cada columna que contenga datos nulos, para tener infromacion sobre si hace falta eliminar datos de alguna columna  para alcanzar el minimo de 5% de datos nulos en columna. En pantalla se imprime un mensaje que dice para cada columna que no cumpla el mínimo, cuanto es el porcentaje actual y qué porcentaje le falta para alcanzar el 5%, luego se muestra ese porcentaje que falta para el 5% en datos a eliminar, es decir, cuantos datos habra que eliminar en esa columna según el porcentaje que resta para alcanzar el 5% de datos nulos respecto al total de 5000 filas y asi cumplir con el requisito mínimo."
      ],
      "metadata": {
        "id": "YxwA2Ny4q0-d"
      }
    },
    {
      "cell_type": "code",
      "source": [
        "\"\"\"Hay 3 columnas con datos nulos pero una de ellas tiene un porcentaje de datos nulos menor al 5%, \n",
        "especificamente de 2,02% , es decir, falta que esa columna llamada 'Value' tenga un 2,98% mas de datos nulos,\n",
        "para alcanzar el minimo de 5% de datos faltantes en esa tercera columna, hará falta eliminar datos, entonces\n",
        "hay que calcular ese 3,98% a cuantos datos equivale para saber el minimo de datos que hay que eliminar de esa columna\"\"\"\n",
        "diccionario_valores_eliminar = {}\n",
        "for j in porcentaje_de_valores_nulo_columna.keys():\n",
        "  if porcentaje_de_valores_nulo_columna[j]<5.00:\n",
        "    print(f'La columna {j} tiene un {porcentaje_de_valores_nulo_columna[j]} % de valores nulos, le hace falta un {5-porcentaje_de_valores_nulo_columna[j]} % de datos nulos.')\n",
        "    valores_eliminar = Tamaño_Datos[0]*((5-porcentaje_de_valores_nulo_columna[j])/100)\n",
        "    diccionario_valores_eliminar[j]=valores_eliminar\n",
        "    print(f'En la columna {j} se deben eliminar {valores_eliminar} datos para cumplir con el requisito minimo')\n",
        "\n",
        "\n",
        "#Es necesario eliminar 149 valores en la columna 'Value' para que se cumpla el minimo de 5% de datos nulos en la columna \n"
      ],
      "metadata": {
        "id": "ackoqU16q1Oy"
      },
      "execution_count": null,
      "outputs": []
    }
  ]
}